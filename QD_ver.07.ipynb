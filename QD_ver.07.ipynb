{
 "cells": [
  {
   "cell_type": "code",
   "execution_count": 1,
   "id": "13c29a72",
   "metadata": {},
   "outputs": [],
   "source": [
    "# import of needed libraries\n",
    "import fitz # wczytywanie pdf\n",
    "import pandas as pd \n",
    "import re # RegEx\n",
    "import collections # for Counter\n",
    "from scipy.spatial import distance # for the similarity measure\n",
    "import math\n",
    "import copy\n",
    "import os"
   ]
  },
  {
   "cell_type": "code",
   "execution_count": 3,
   "id": "04ad832e",
   "metadata": {},
   "outputs": [],
   "source": [
    "def load_pdfs_from_folder(folder_path):\n",
    "    \"\"\"Returns list of pdf ducuments in folder and loads it\n",
    "    \"\"\"\n",
    "    pdf_list = []\n",
    "    \n",
    "    # Loop through all files in the folder\n",
    "    for filename in os.listdir(folder_path):\n",
    "        if filename.endswith('.pdf'):\n",
    "            # Construct the full path to the PDF file\n",
    "            pdf_path = os.path.join(folder_path, filename)\n",
    "            \n",
    "            # Open the PDF file using PyMuPDF's fitz module\n",
    "            pdf_document = fitz.open(pdf_path)\n",
    "            \n",
    "            # Append the PDF document object to the list\n",
    "            pdf_list.append(pdf_document)\n",
    "    \n",
    "    return pdf_list"
   ]
  },
  {
   "cell_type": "code",
   "execution_count": 4,
   "id": "befbb33e",
   "metadata": {},
   "outputs": [],
   "source": [
    "# uploading of data\n",
    "folder_path = (r'C:\\Users\\User\\questions_duplicates')\n",
    "pdf_documents = load_pdfs_from_folder(folder_path)\n",
    "text = ''\n",
    "for doc in pdf_documents:\n",
    "    for page in range(doc.page_count):\n",
    "        text += doc[page].get_text()"
   ]
  },
  {
   "cell_type": "code",
   "execution_count": null,
   "id": "381c7711",
   "metadata": {},
   "outputs": [],
   "source": [
    "# we only leave questions\n",
    "text = re.sub(re.escape('Baza pytań do Lekarskiego Egzaminu Końcowego') + r'(.*?)' + '[Nn]r', 'Nr', text, flags=re.DOTALL) "
   ]
  },
  {
   "cell_type": "code",
   "execution_count": 5,
   "id": "20f125fe",
   "metadata": {},
   "outputs": [],
   "source": [
    "# creation of a list of questions based on the search 'Nr'\n",
    "data_list = []\n",
    "temp = []\n",
    "question_numbers = text.count('Nr') + text.count('nr') \n",
    "pattern = re.compile(r'[Nn]r')\n",
    "matches = pattern.finditer(text)\n",
    "for match in matches:\n",
    "    temp.append(match.end())\n",
    "    \n",
    "for i in range(question_numbers-1):\n",
    "    data_list.append(text[temp[i]+3:temp[i+1]-2])\n",
    "data_list.append(text[temp[len(temp)-1]+4:None])"
   ]
  },
  {
   "cell_type": "code",
   "execution_count": 15,
   "id": "00d90169",
   "metadata": {},
   "outputs": [],
   "source": [
    "# remove subpoints (A-E), end-of-line characters, more than 1 break, and colons, periods etc.\n",
    "for question_number in range(question_numbers):\n",
    "    data_list[question_number] = re.sub(r'Pytanie|[A-E]\\.|\\n|:|\\.|;|[0-9]\\)|,', '', data_list[question_number])\n",
    "    data_list[question_number] = data_list[question_number].lower()"
   ]
  },
  {
   "cell_type": "code",
   "execution_count": 8,
   "id": "69d552aa",
   "metadata": {},
   "outputs": [],
   "source": [
    "# we create a dictionary list with the counted words in each question\n",
    "data_bag = []\n",
    "for question in data_list:\n",
    "    data_bag.append(dict(collections.Counter(question.split())))"
   ]
  },
  {
   "cell_type": "code",
   "execution_count": 10,
   "id": "7e387774",
   "metadata": {},
   "outputs": [],
   "source": [
    "def docs_num_contain(term, data):\n",
    "    \"\"\"Returns the number of documents containing the term in the dataset data\n",
    "    \"\"\"\n",
    "    temp = 0\n",
    "    for doc_num in range(len(data)):\n",
    "        if term in data[doc_num]:\n",
    "            temp += 1\n",
    "    return temp"
   ]
  },
  {
   "cell_type": "code",
   "execution_count": 11,
   "id": "617845ab",
   "metadata": {},
   "outputs": [],
   "source": [
    "# we create a list of dictionaries with TFIDF values\n",
    "data = copy.deepcopy(data_bag)\n",
    "for doc_num in range(question_numbers):\n",
    "    temp_list = list(data[doc_num])\n",
    "    temp_n = sum(data[doc_num].values())\n",
    "    for term in temp_list:\n",
    "        data[doc_num][term] = data[doc_num][term]/temp_n * math.log10(question_numbers / docs_num_contain(term,data_bag))"
   ]
  },
  {
   "cell_type": "code",
   "execution_count": 12,
   "id": "f10ea1e2",
   "metadata": {},
   "outputs": [],
   "source": [
    "def cosine_distance(dict1, dict2):\n",
    "    \"\"\"Calculates the cosine distance between any two dictionaries\n",
    "    \"\"\"\n",
    "    keys = set(dict1.keys()) | set(dict2.keys())\n",
    "\n",
    "    vector1 = [dict1.get(key, 0) for key in keys]\n",
    "    vector2 = [dict2.get(key, 0) for key in keys]\n",
    "\n",
    "    dot_product = sum(x * y for x, y in zip(vector1, vector2))\n",
    "    magnitude1 = math.sqrt(sum(x ** 2 for x in vector1))\n",
    "    magnitude2 = math.sqrt(sum(x ** 2 for x in vector2))\n",
    "\n",
    "    if magnitude1 == 0 or magnitude2 == 0:\n",
    "        return 1.0 \n",
    "\n",
    "    distance = 1 - (dot_product / (magnitude1 * magnitude2))\n",
    "    return distance"
   ]
  },
  {
   "cell_type": "code",
   "execution_count": 13,
   "id": "656d1fb3",
   "metadata": {},
   "outputs": [],
   "source": [
    "# calculates distances between questions from the base\n",
    "distances = {}\n",
    "\n",
    "for i in range(question_numbers):\n",
    "    for j in range(i + 1, question_numbers):\n",
    "        distances[(i, j)] = cosine_distance(data[i],data[j])"
   ]
  },
  {
   "cell_type": "code",
   "execution_count": 14,
   "id": "fcf6e56f",
   "metadata": {},
   "outputs": [
    {
     "name": "stdout",
     "output_type": "stream",
     "text": [
      "(83, 86) 0.05456026242709833\n",
      "(43, 47) 0.22488379121848634\n",
      "(20, 76) 0.4004181616714617\n",
      "(43, 45) 0.4352047512139142\n",
      "(24, 26) 0.45745245104082477\n"
     ]
    }
   ],
   "source": [
    "# we display n most similar questions\n",
    "n = 5\n",
    "sorted_items = sorted(distances.items(), key=lambda x: x[1], reverse=False)[:n]\n",
    "\n",
    "for key, value in sorted_items:\n",
    "    print(key, value)"
   ]
  }
 ],
 "metadata": {
  "kernelspec": {
   "display_name": "Python 3 (ipykernel)",
   "language": "python",
   "name": "python3"
  },
  "language_info": {
   "codemirror_mode": {
    "name": "ipython",
    "version": 3
   },
   "file_extension": ".py",
   "mimetype": "text/x-python",
   "name": "python",
   "nbconvert_exporter": "python",
   "pygments_lexer": "ipython3",
   "version": "3.9.13"
  }
 },
 "nbformat": 4,
 "nbformat_minor": 5
}
